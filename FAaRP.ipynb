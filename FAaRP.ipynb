{
  "cells": [
    {
      "cell_type": "markdown",
      "metadata": {
        "id": "view-in-github",
        "colab_type": "text"
      },
      "source": [
        "<a href=\"https://colab.research.google.com/github/GladiceLee/Shipping-Route-Cost-Optimization/blob/main/FAaRP.ipynb\" target=\"_parent\"><img src=\"https://colab.research.google.com/assets/colab-badge.svg\" alt=\"Open In Colab\"/></a>"
      ]
    },
    {
      "cell_type": "markdown",
      "metadata": {
        "id": "xm6cwZiBcToD"
      },
      "source": [
        "# Load Datas"
      ]
    },
    {
      "cell_type": "code",
      "execution_count": 1,
      "metadata": {
        "id": "Ev1qOkricToE"
      },
      "outputs": [],
      "source": [
        "import pandas as pd\n",
        "import numpy as np\n",
        "import matplotlib.pyplot as plt"
      ]
    },
    {
      "cell_type": "code",
      "execution_count": 8,
      "metadata": {
        "id": "KDC6IidrcToF"
      },
      "outputs": [],
      "source": [
        "def read_file(file_name):\n",
        "    file = pd.ExcelFile(Supply_Chain_Logisitcs_Problem)\n",
        "    dfs = {}\n",
        "    for sheet in file.sheet_names:\n",
        "        dfs[sheet] = file.parse(sheet)\n",
        "    return dfs"
      ]
    },
    {
      "cell_type": "code",
      "source": [
        "from google.colab import drive\n",
        "drive.mount('/content/drive')"
      ],
      "metadata": {
        "colab": {
          "base_uri": "https://localhost:8080/"
        },
        "id": "Id0QLi_3dqAU",
        "outputId": "ebf038e8-1e25-409f-a7ce-c6e8aaeecd1d"
      },
      "execution_count": 3,
      "outputs": [
        {
          "output_type": "stream",
          "name": "stdout",
          "text": [
            "Mounted at /content/drive\n"
          ]
        }
      ]
    },
    {
      "cell_type": "code",
      "execution_count": 9,
      "metadata": {
        "colab": {
          "base_uri": "https://localhost:8080/",
          "height": 326
        },
        "id": "RjfK8c1ccToF",
        "outputId": "6b8c9856-54ab-4889-fe90-2725cdef3cdd"
      },
      "outputs": [
        {
          "output_type": "error",
          "ename": "NameError",
          "evalue": "name 'Supply_Chain_Logisitcs_Problem' is not defined",
          "traceback": [
            "\u001b[0;31m---------------------------------------------------------------------------\u001b[0m",
            "\u001b[0;31mNameError\u001b[0m                                 Traceback (most recent call last)",
            "\u001b[0;32m<ipython-input-9-e69e5bf1c1ed>\u001b[0m in \u001b[0;36m<cell line: 1>\u001b[0;34m()\u001b[0m\n\u001b[0;32m----> 1\u001b[0;31m \u001b[0mdfs\u001b[0m \u001b[0;34m=\u001b[0m \u001b[0mread_file\u001b[0m\u001b[0;34m(\u001b[0m\u001b[0;34m\"Supply_Chain_Logisitcs_Problem\"\u001b[0m\u001b[0;34m)\u001b[0m\u001b[0;34m\u001b[0m\u001b[0;34m\u001b[0m\u001b[0m\n\u001b[0m\u001b[1;32m      2\u001b[0m \u001b[0;32mfor\u001b[0m \u001b[0mk\u001b[0m\u001b[0;34m,\u001b[0m \u001b[0mv\u001b[0m \u001b[0;32min\u001b[0m \u001b[0mdfs\u001b[0m\u001b[0;34m.\u001b[0m\u001b[0mitems\u001b[0m\u001b[0;34m(\u001b[0m\u001b[0;34m)\u001b[0m\u001b[0;34m:\u001b[0m\u001b[0;34m\u001b[0m\u001b[0;34m\u001b[0m\u001b[0m\n\u001b[1;32m      3\u001b[0m     \u001b[0mprint\u001b[0m\u001b[0;34m(\u001b[0m\u001b[0;34mf'{k} {v.shape}:'\u001b[0m\u001b[0;34m)\u001b[0m\u001b[0;34m\u001b[0m\u001b[0;34m\u001b[0m\u001b[0m\n\u001b[1;32m      4\u001b[0m     \u001b[0mprint\u001b[0m\u001b[0;34m(\u001b[0m\u001b[0mstr\u001b[0m\u001b[0;34m(\u001b[0m\u001b[0mdfs\u001b[0m\u001b[0;34m[\u001b[0m\u001b[0mk\u001b[0m\u001b[0;34m]\u001b[0m\u001b[0;34m.\u001b[0m\u001b[0mcolumns\u001b[0m\u001b[0;34m.\u001b[0m\u001b[0mvalues\u001b[0m\u001b[0;34m)\u001b[0m\u001b[0;34m)\u001b[0m\u001b[0;34m\u001b[0m\u001b[0;34m\u001b[0m\u001b[0m\n\u001b[1;32m      5\u001b[0m     \u001b[0mprint\u001b[0m\u001b[0;34m(\u001b[0m\u001b[0;34m'_'\u001b[0m \u001b[0;34m*\u001b[0m \u001b[0;36m80\u001b[0m\u001b[0;34m)\u001b[0m\u001b[0;34m\u001b[0m\u001b[0;34m\u001b[0m\u001b[0m\n",
            "\u001b[0;32m<ipython-input-8-c932b7a2dcd2>\u001b[0m in \u001b[0;36mread_file\u001b[0;34m(file_name)\u001b[0m\n\u001b[1;32m      1\u001b[0m \u001b[0;32mdef\u001b[0m \u001b[0mread_file\u001b[0m\u001b[0;34m(\u001b[0m\u001b[0mfile_name\u001b[0m\u001b[0;34m)\u001b[0m\u001b[0;34m:\u001b[0m\u001b[0;34m\u001b[0m\u001b[0;34m\u001b[0m\u001b[0m\n\u001b[0;32m----> 2\u001b[0;31m     \u001b[0mfile\u001b[0m \u001b[0;34m=\u001b[0m \u001b[0mpd\u001b[0m\u001b[0;34m.\u001b[0m\u001b[0mExcelFile\u001b[0m\u001b[0;34m(\u001b[0m\u001b[0mSupply_Chain_Logisitcs_Problem\u001b[0m\u001b[0;34m)\u001b[0m\u001b[0;34m\u001b[0m\u001b[0;34m\u001b[0m\u001b[0m\n\u001b[0m\u001b[1;32m      3\u001b[0m     \u001b[0mdfs\u001b[0m \u001b[0;34m=\u001b[0m \u001b[0;34m{\u001b[0m\u001b[0;34m}\u001b[0m\u001b[0;34m\u001b[0m\u001b[0;34m\u001b[0m\u001b[0m\n\u001b[1;32m      4\u001b[0m     \u001b[0;32mfor\u001b[0m \u001b[0msheet\u001b[0m \u001b[0;32min\u001b[0m \u001b[0mfile\u001b[0m\u001b[0;34m.\u001b[0m\u001b[0msheet_names\u001b[0m\u001b[0;34m:\u001b[0m\u001b[0;34m\u001b[0m\u001b[0;34m\u001b[0m\u001b[0m\n\u001b[1;32m      5\u001b[0m         \u001b[0mdfs\u001b[0m\u001b[0;34m[\u001b[0m\u001b[0msheet\u001b[0m\u001b[0;34m]\u001b[0m \u001b[0;34m=\u001b[0m \u001b[0mfile\u001b[0m\u001b[0;34m.\u001b[0m\u001b[0mparse\u001b[0m\u001b[0;34m(\u001b[0m\u001b[0msheet\u001b[0m\u001b[0;34m)\u001b[0m\u001b[0;34m\u001b[0m\u001b[0;34m\u001b[0m\u001b[0m\n",
            "\u001b[0;31mNameError\u001b[0m: name 'Supply_Chain_Logisitcs_Problem' is not defined"
          ]
        }
      ],
      "source": [
        "dfs = read_file(\"Supply_Chain_Logisitcs_Problem\")\n",
        "for k, v in dfs.items():\n",
        "    print(f'{k} {v.shape}:')\n",
        "    print(str(dfs[k].columns.values))\n",
        "    print('_' * 80)"
      ]
    },
    {
      "cell_type": "markdown",
      "metadata": {
        "id": "96rwvRvWcToG"
      },
      "source": [
        "# Observe the data"
      ]
    },
    {
      "cell_type": "markdown",
      "metadata": {
        "id": "MJ4VFVHtcToG"
      },
      "source": [
        "##### Redudant columns\n",
        "There's only `2013-05-26` in `dfs['OrderList']['Order Date']`\\\n",
        "There's only `PORT09` in `dfs['OrderList']['Destination Port']`\\\n",
        "There's only `PORT09` in `dfs['FreightRates']['dest_port_cd']`"
      ]
    },
    {
      "cell_type": "code",
      "execution_count": null,
      "metadata": {
        "id": "z4a2EBcpcToG",
        "outputId": "c3d142cd-227f-42ea-c8d5-8242872c8e13"
      },
      "outputs": [
        {
          "name": "stdout",
          "output_type": "stream",
          "text": [
            "The columns that have only one unique value(redundant) are:\n",
            "________________________________________________________________________________\n",
            "|Dataframe|          |Column|             |Value|\n",
            "OrderList            Order Date           2013-05-26 00:00:00\n",
            "OrderList            Destination Port     PORT09\n",
            "FreightRates         dest_port_cd         PORT09\n"
          ]
        }
      ],
      "source": [
        "print('The columns that have only one unique value(redundant) are:')\n",
        "print('_' * 80)\n",
        "print(f'{\"|Dataframe|\":<20} {\"|Column|\":<20} {\"|Value|\"}')\n",
        "for k, v in dfs.items():\n",
        "    for c in v.columns:\n",
        "        if v[c].nunique() == 1:\n",
        "            print(f'{k:<20} {c:<20} {v[c].unique()[0]}')"
      ]
    },
    {
      "cell_type": "markdown",
      "metadata": {
        "id": "_SUscSBPcToH"
      },
      "source": [
        "##### There's no `PORT01` in `dfs['FreightRates']['orig_port_cd']`"
      ]
    },
    {
      "cell_type": "code",
      "execution_count": null,
      "metadata": {
        "id": "Bn3ZsVH7cToH",
        "outputId": "ae92da8a-83fc-4e5a-d5f6-d0b20ef64705"
      },
      "outputs": [
        {
          "name": "stdout",
          "output_type": "stream",
          "text": [
            "['PORT02', 'PORT03', 'PORT04', 'PORT05', 'PORT06', 'PORT07', 'PORT08', 'PORT09', 'PORT10', 'PORT11']\n"
          ]
        }
      ],
      "source": [
        "print(sorted(dfs['FreightRates']['orig_port_cd'].unique()))"
      ]
    },
    {
      "cell_type": "markdown",
      "metadata": {
        "id": "bgX0NhykcToI"
      },
      "source": [
        "##### The Total Capacities is `5791`"
      ]
    },
    {
      "cell_type": "code",
      "execution_count": null,
      "metadata": {
        "id": "fI53gLDEcToI",
        "outputId": "6595a95f-9546-4478-9dc6-002c0921b123"
      },
      "outputs": [
        {
          "name": "stdout",
          "output_type": "stream",
          "text": [
            "5791\n"
          ]
        }
      ],
      "source": [
        "print(sum(b for a,b in dfs['WhCapacities'].values))"
      ]
    },
    {
      "cell_type": "markdown",
      "metadata": {
        "id": "5_KKgS5xcToI"
      },
      "source": [
        "##### The Total Combination of `('Customer', 'Product ID')` is `1684`"
      ]
    },
    {
      "cell_type": "code",
      "execution_count": null,
      "metadata": {
        "id": "MVVItfBbcToJ",
        "outputId": "78c912fc-62a4-47b8-d0bf-308a02cc5f6e"
      },
      "outputs": [
        {
          "name": "stdout",
          "output_type": "stream",
          "text": [
            "9215\n",
            "1684\n"
          ]
        }
      ],
      "source": [
        "print(len(dfs['OrderList']))\n",
        "print(len(dfs['OrderList'][['Customer', 'Product ID']].value_counts()))"
      ]
    },
    {
      "cell_type": "markdown",
      "metadata": {
        "id": "N03uiia5cToJ"
      },
      "source": [
        "##### There exist some order, ship both ahead and late"
      ]
    },
    {
      "cell_type": "code",
      "execution_count": null,
      "metadata": {
        "id": "Mc5yWgJGcToJ",
        "outputId": "5eda0d6e-c1e0-4983-c47e-16ee267b76f1"
      },
      "outputs": [
        {
          "name": "stdout",
          "output_type": "stream",
          "text": [
            "123\n"
          ]
        }
      ],
      "source": [
        "ship_ahead_index = dfs['OrderList']['Ship ahead day count'] > 0\n",
        "ship_late_index = dfs['OrderList']['Ship Late Day count'] > 0\n",
        "contradiction = dfs['OrderList'][ship_ahead_index & ship_late_index]\n",
        "print(len(contradiction))\n"
      ]
    },
    {
      "cell_type": "markdown",
      "metadata": {
        "id": "YT_N_et7cToJ"
      },
      "source": [
        "##### Carrier: V44_3 didn't exist in FreightRates"
      ]
    },
    {
      "cell_type": "code",
      "execution_count": null,
      "metadata": {
        "id": "EYg8A9FfcToK",
        "outputId": "7d7518f6-650e-451f-ce51-8cd6f22fdf0b"
      },
      "outputs": [
        {
          "name": "stdout",
          "output_type": "stream",
          "text": [
            "{'V444_0', 'V444_1', 'V44_3'}\n",
            "{'V444_6', 'V444_0', 'V444_2', 'V444_4', 'V444_5', 'V444_9', 'V444_7', 'V444_8', 'V444_1'}\n",
            "{'V44_3'}\n"
          ]
        }
      ],
      "source": [
        "# find all OrderList.Carriers that don't exist in FreightRates.Carrier\n",
        "print(set(dfs['OrderList']['Carrier'].unique()))\n",
        "print(set(dfs['FreightRates']['Carrier'].unique()))\n",
        "print(set(dfs['OrderList']['Carrier'].unique()) - set(dfs['FreightRates']['Carrier'].unique()))"
      ]
    },
    {
      "cell_type": "markdown",
      "metadata": {
        "id": "Hw2dPKpFcToK"
      },
      "source": [
        "##### Check if there's a product can produce by multiple plant"
      ]
    },
    {
      "cell_type": "code",
      "execution_count": null,
      "metadata": {
        "id": "drWIN0T6cToK",
        "outputId": "a8296b99-dc7e-43e9-8810-79348dc8dc88"
      },
      "outputs": [
        {
          "name": "stdout",
          "output_type": "stream",
          "text": [
            "count\n",
            "1    1271\n",
            "2     141\n",
            "4      71\n",
            "3      43\n",
            "5      14\n",
            "Name: count, dtype: int64\n"
          ]
        }
      ],
      "source": [
        "print(dfs['ProductsPerPlant']['Product ID'].value_counts().value_counts())"
      ]
    },
    {
      "cell_type": "code",
      "execution_count": null,
      "metadata": {
        "id": "9kZ8y0qscToK",
        "outputId": "4650bdbb-4db0-4258-fd0d-b63dde3c4261"
      },
      "outputs": [
        {
          "name": "stdout",
          "output_type": "stream",
          "text": [
            "   Plant Code                Customers\n",
            "0     PLANT02        V5555555555555_16\n",
            "1     PLANT02      V555555555555555_29\n",
            "2     PLANT02             V555555555_3\n",
            "3     PLANT02        V55555555555555_8\n",
            "4     PLANT02              V55555555_9\n",
            "5     PLANT02                V55555_10\n",
            "6     PLANT02              V55555555_5\n",
            "7     PLANT06      V555555555555555_18\n",
            "8     PLANT06                V55555_10\n",
            "9     PLANT10      V555555555555555_29\n",
            "10    PLANT10               V555555_34\n",
            "11    PLANT10  V5555555555555555555_54\n",
            "12    PLANT10                V55555_10\n",
            "13    PLANT11  V5555555555555555555_54\n"
          ]
        }
      ],
      "source": [
        "print(dfs['VmiCustomers'])"
      ]
    },
    {
      "cell_type": "markdown",
      "metadata": {
        "id": "Y5C8GvJPcToL"
      },
      "source": [
        "# Define the problem\n",
        "Given ['Customer', 'Product ID', 'Unit quantity', 'Weight']\\\n",
        "return min cost with plant, port_for_plant, and frieght"
      ]
    },
    {
      "cell_type": "markdown",
      "metadata": {
        "id": "Z98JEJaZcToL"
      },
      "source": [
        "##### Build a dataframe from product id to possible (port, plant) pair"
      ]
    },
    {
      "cell_type": "code",
      "execution_count": null,
      "metadata": {
        "id": "b5HzNYK6cToL"
      },
      "outputs": [],
      "source": [
        "dfs['ProductsPort'] = pd.merge(dfs['ProductsPerPlant'], dfs['PlantPorts'], on='Plant Code')\n",
        "# dfs['ProductsPort']['Plant-Port'] = list(zip(dfs['ProductsPort']['Plant Code'], dfs['ProductsPort']['Port']))\n",
        "# dfs['ProductsPort'] = dfs['ProductsPort'].groupby('Product ID')['Plant-Port'].agg(list).reset_index()"
      ]
    },
    {
      "cell_type": "markdown",
      "metadata": {
        "id": "gj2_KIR2cToM"
      },
      "source": [
        "## Easy version: find the result without the plant limit"
      ]
    },
    {
      "cell_type": "code",
      "execution_count": null,
      "metadata": {
        "id": "awm4mr0scToM"
      },
      "outputs": [],
      "source": [
        "def product_cost(unit_quantity, plant_id):\n",
        "    row_index = dfs['WhCosts']['WH'] == plant_id\n",
        "    unit_price = dfs['WhCosts'][row_index]['Cost/unit'].values[0]\n",
        "    return unit_quantity * unit_price\n",
        ""
      ]
    },
    {
      "cell_type": "code",
      "execution_count": null,
      "metadata": {
        "id": "V9lujXRXcToM"
      },
      "outputs": [],
      "source": [
        "def transport_cost(service_level, weight, frieghts):\n",
        "    if service_level == 'CRF':\n",
        "        return 0\n",
        "\n",
        "    min_cost = np.inf\n",
        "    for i in range(len(frieghts)):\n",
        "        freight = frieghts.iloc[i]\n",
        "        cost = max(freight['rate'] * weight, freight['minimum cost'])\n",
        "        if cost < min_cost:\n",
        "            min_cost = cost\n",
        "    return min_cost"
      ]
    },
    {
      "cell_type": "code",
      "execution_count": null,
      "metadata": {
        "id": "qBpG0dgEcToN"
      },
      "outputs": [],
      "source": [
        "def find_freights(orig_port, weight):\n",
        "    target = (dfs['FreightRates']['orig_port_cd'] == orig_port) & \\\n",
        "            (dfs['FreightRates']['minm_wgh_qty'] <= weight) & \\\n",
        "            (dfs['FreightRates']['max_wgh_qty'] + 1 > weight)\n",
        "    return dfs['FreightRates'][target]"
      ]
    },
    {
      "cell_type": "code",
      "execution_count": null,
      "metadata": {
        "id": "OkrRK06McToN"
      },
      "outputs": [],
      "source": [
        "def min_cost_per_order(order):\n",
        "    weight = order['Weight']\n",
        "    unit_quantity = order['Unit quantity']\n",
        "    product_id = order['Product ID']\n",
        "    customer = order['Customer']\n",
        "    service_level = order['Service Level']\n",
        "    target_rows = dfs['ProductsPort']['Product ID'] == product_id\n",
        "\n",
        "    order['ans_min_cost'] = np.inf\n",
        "    order['ans_plant_id'] = None\n",
        "    order['ans_port'] = None\n",
        "    for row in dfs['ProductsPort'][target_rows].values:\n",
        "        plant_id, _, port = row\n",
        "        if (dfs['VmiCustomers']['Plant Code'] != plant_id).all() or\\\n",
        "            ((dfs['VmiCustomers']['Plant Code'] == plant_id) & (dfs['VmiCustomers']['Customers'] == customer)).any():\n",
        "\n",
        "            cost_p = product_cost(unit_quantity, plant_id)\n",
        "            frieghts = find_freights(port, weight)\n",
        "            cost_t = transport_cost(service_level, weight, frieghts)\n",
        "            if cost_p + cost_t < order['ans_min_cost']:\n",
        "                order['ans_min_cost'] = cost_p + cost_t\n",
        "                order['ans_plant_id'] = plant_id\n",
        "                order['ans_port'] = port\n",
        "    return order\n",
        "dfs['newOrder'] = dfs['OrderList'].apply(min_cost_per_order, axis=1)"
      ]
    },
    {
      "cell_type": "code",
      "execution_count": null,
      "metadata": {
        "id": "ZaL3QkDbcToN"
      },
      "outputs": [],
      "source": [
        "selected_columns = ['Customer', 'Product ID', 'Unit quantity', 'Weight', 'Service Level', 'ans_min_cost', 'ans_plant_id', 'ans_port']\n",
        "dfs['newOrder'] = dfs['newOrder'][selected_columns]"
      ]
    },
    {
      "cell_type": "markdown",
      "metadata": {
        "id": "q4raWUtXcToN"
      },
      "source": [
        "### Analysis"
      ]
    },
    {
      "cell_type": "markdown",
      "metadata": {
        "id": "OOVkE4Q-cToN"
      },
      "source": [
        "##### Plant Hist Count"
      ]
    },
    {
      "cell_type": "code",
      "execution_count": null,
      "metadata": {
        "id": "27D3l2E4cToN",
        "outputId": "e2cb9817-5ed3-4e51-d50b-f45767bdafc1"
      },
      "outputs": [
        {
          "data": {
            "image/png": "[encoded data removed]",
            "text/plain": [
              "<Figure size 1000x700 with 1 Axes>"
            ]
          },
          "metadata": {},
          "output_type": "display_data"
        }
      ],
      "source": [
        "fig, ax = plt.subplots(1,1, figsize=(10,7))\n",
        "plt.xticks(rotation=45)\n",
        "plant_counts = pd.DataFrame(dfs['newOrder'][\"ans_plant_id\"].value_counts())\n",
        "ax.bar(plant_counts.index, plant_counts[\"count\"])\n",
        "plt.title(\"Number of Products that each plant manufactures\")\n",
        "plt.show()\n"
      ]
    },
    {
      "cell_type": "code",
      "execution_count": null,
      "metadata": {
        "id": "ewBemoqzcToN",
        "outputId": "f4de42cd-1854-4991-fb0d-e749bb6b1e1c"
      },
      "outputs": [
        {
          "data": {
            "image/png": "[encoded data removed]",
            "text/plain": [
              "<Figure size 1000x700 with 1 Axes>"
            ]
          },
          "metadata": {},
          "output_type": "display_data"
        }
      ],
      "source": [
        "fig, ax = plt.subplots(1,1, figsize=(10,7))\n",
        "plt.xticks(rotation=45)\n",
        "ax.bar(dfs['WhCosts'].index, dfs['WhCosts'][\"Cost/unit\"])\n",
        "plt.title(\"Manufacturing Cost for each Plant\")\n",
        "plt.show()"
      ]
    },
    {
      "cell_type": "markdown",
      "metadata": {
        "id": "daN5pgducToN"
      },
      "source": [
        "## Original Problem: consider the capacities"
      ]
    },
    {
      "cell_type": "code",
      "execution_count": null,
      "metadata": {
        "id": "eIN5e-gScToO"
      },
      "outputs": [],
      "source": []
    }
  ],
  "metadata": {
    "kernelspec": {
      "display_name": "FAARP",
      "language": "python",
      "name": "python3"
    },
    "language_info": {
      "codemirror_mode": {
        "name": "ipython",
        "version": 3
      },
      "file_extension": ".py",
      "mimetype": "text/x-python",
      "name": "python",
      "nbconvert_exporter": "python",
      "pygments_lexer": "ipython3",
      "version": "3.12.7"
    },
    "colab": {
      "provenance": [],
      "include_colab_link": true
    }
  },
  "nbformat": 4,
  "nbformat_minor": 0
}